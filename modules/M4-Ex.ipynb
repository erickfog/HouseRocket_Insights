{
 "cells": [
  {
   "cell_type": "markdown",
   "id": "08438679",
   "metadata": {},
   "source": [
    "1. Qual a média do preço de compra dos imóveis por “Nível”?\n",
    "- Nível 0 -> Preço entre R$ 0 e R$ 321.950\n",
    "- Nível 1 -> Preço entre R$ 321.950 e R$ 450.000\n",
    "- Nível 2 -> Preço entre R$ 450.000 e R$ 645.000\n",
    "- Nível 3 -> Acima de R$ 645.000\n",
    "\n",
    "\n",
    "2. Qual a média do tamanho da sala de estar dos imóveis por “Size” ?\n",
    "- Size 0 -> Tamanho entre 0 e 1427 sqft\n",
    "- Size 1 -> Tamanho entre 1427 e 1910 sqft\n",
    "- Size 2 -> Tamanho entre 1910 e 2550 sqft\n",
    "- Size 3 -> Tamanho acima de 2550 sqft\n",
    "\n",
    "3. Adicione as seguinte informações ao conjunto de dados original:\n",
    "- Place ID: Identificação da localização\n",
    "- OSM Type: Open Street Map type\n",
    "- Country: Nome do País\n",
    "- Country Code: Código do País\n",
    "\n",
    "4. Adicione os seguinte filtros no Mapa:\n",
    "- Tamanho mínimo da área da sala de estar.\n",
    "- Número mínimo de banheiros.\n",
    "- Valor Máximo do Preço.\n",
    "- Tamanho máximo da área do porão.\n",
    "- Filtro das Condições do Imóvel.\n",
    "- Filtro por Ano de Construção.\n",
    "\n",
    "5. Adicione os seguinte filtros no Dashboard:\n",
    "\n",
    "- Filtro por data disponível para compra.\n",
    "- Filtro por ano de renovação.\n",
    "- Filtro se possui vista para a água ou não."
   ]
  },
  {
   "cell_type": "code",
   "execution_count": 1,
   "id": "568d3a3d",
   "metadata": {},
   "outputs": [],
   "source": [
    "import pandas as pd\n",
    "from matplotlib import pyplot as plt"
   ]
  },
  {
   "cell_type": "code",
   "execution_count": 2,
   "id": "4221e96d",
   "metadata": {},
   "outputs": [],
   "source": [
    "data = pd.read_csv('kc_house_data.csv')"
   ]
  },
  {
   "cell_type": "code",
   "execution_count": 3,
   "id": "761f4232",
   "metadata": {},
   "outputs": [],
   "source": [
    "data['level'] = data['price'].apply(lambda x: 0 if x<=321950 else \n",
    "                                          1 if (x>321950) & (x<450000) else\n",
    "                                          2 if (x>450000) & (x<645000)else 3)\n",
    "data['level'] = data['level'].astype(int)"
   ]
  },
  {
   "cell_type": "code",
   "execution_count": 4,
   "id": "9864cc8e",
   "metadata": {},
   "outputs": [
    {
     "data": {
      "text/plain": [
       "<BarContainer object of 4 artists>"
      ]
     },
     "execution_count": 4,
     "metadata": {},
     "output_type": "execute_result"
    },
    {
     "data": {
      "image/png": "[encoded data removed]",
      "text/plain": [
       "<Figure size 432x288 with 1 Axes>"
      ]
     },
     "metadata": {
      "needs_background": "light"
     },
     "output_type": "display_data"
    }
   ],
   "source": [
    "#Questão 1\n",
    "med_per_level = data[['price','level']].groupby('level').mean().reset_index()\n",
    "plt.bar(med_per_level['level'],med_per_level['price'])"
   ]
  },
  {
   "cell_type": "code",
   "execution_count": 5,
   "id": "c946722c",
   "metadata": {},
   "outputs": [],
   "source": [
    "#Questão 2\n",
    "data['Size'] = data['sqft_living'].apply(lambda x: 0 if (x<=1427) else \n",
    "                                                   1 if (x>1427) & (x<=1910) else\n",
    "                                                   2 if (x>1910) & (x<=2550) else 3)\n"
   ]
  },
  {
   "cell_type": "code",
   "execution_count": 6,
   "id": "26d2e1ff",
   "metadata": {},
   "outputs": [
    {
     "data": {
      "text/plain": [
       "<BarContainer object of 4 artists>"
      ]
     },
     "execution_count": 6,
     "metadata": {},
     "output_type": "execute_result"
    },
    {
     "data": {
      "image/png": "[encoded data removed]",
      "text/plain": [
       "<Figure size 432x288 with 1 Axes>"
      ]
     },
     "metadata": {
      "needs_background": "light"
     },
     "output_type": "display_data"
    }
   ],
   "source": [
    "med_per_size = data[['sqft_living','Size']].groupby('Size').mean().reset_index()\n",
    "plt.bar(med_per_size['Size'],med_per_size['sqft_living'])"
   ]
  },
  {
   "cell_type": "code",
   "execution_count": 7,
   "id": "bd14ccd3",
   "metadata": {},
   "outputs": [
    {
     "data": {
      "text/html": [
       "<div>\n",
       "<style scoped>\n",
       "    .dataframe tbody tr th:only-of-type {\n",
       "        vertical-align: middle;\n",
       "    }\n",
       "\n",
       "    .dataframe tbody tr th {\n",
       "        vertical-align: top;\n",
       "    }\n",
       "\n",
       "    .dataframe thead th {\n",
       "        text-align: right;\n",
       "    }\n",
       "</style>\n",
       "<table border=\"1\" class=\"dataframe\">\n",
       "  <thead>\n",
       "    <tr style=\"text-align: right;\">\n",
       "      <th></th>\n",
       "      <th>Size</th>\n",
       "      <th>sqft_living</th>\n",
       "    </tr>\n",
       "  </thead>\n",
       "  <tbody>\n",
       "    <tr>\n",
       "      <th>0</th>\n",
       "      <td>0</td>\n",
       "      <td>1123.832531</td>\n",
       "    </tr>\n",
       "    <tr>\n",
       "      <th>1</th>\n",
       "      <td>1</td>\n",
       "      <td>1664.962334</td>\n",
       "    </tr>\n",
       "    <tr>\n",
       "      <th>2</th>\n",
       "      <td>2</td>\n",
       "      <td>2211.792786</td>\n",
       "    </tr>\n",
       "    <tr>\n",
       "      <th>3</th>\n",
       "      <td>3</td>\n",
       "      <td>3329.607016</td>\n",
       "    </tr>\n",
       "  </tbody>\n",
       "</table>\n",
       "</div>"
      ],
      "text/plain": [
       "   Size  sqft_living\n",
       "0     0  1123.832531\n",
       "1     1  1664.962334\n",
       "2     2  2211.792786\n",
       "3     3  3329.607016"
      ]
     },
     "execution_count": 7,
     "metadata": {},
     "output_type": "execute_result"
    }
   ],
   "source": [
    "med_per_size"
   ]
  },
  {
   "cell_type": "markdown",
   "id": "afc91b75",
   "metadata": {},
   "source": [
    "#Paralelismo\n",
    "-> Multi-Thread (Usado quando as tarefas tem dependência)\n",
    "--> Processo(Tarefa)\n",
    "\n",
    "#Async (Usado quando as tarefas não tem depedência)"
   ]
  },
  {
   "cell_type": "code",
   "execution_count": 8,
   "id": "af9061b5",
   "metadata": {},
   "outputs": [],
   "source": [
    "#Questão 3\n",
    "from geopy.geocoders import Nominatim\n",
    "geolocator = Nominatim(user_agent='geopyExercises')"
   ]
  },
  {
   "cell_type": "code",
   "execution_count": 9,
   "id": "b8ed5291",
   "metadata": {},
   "outputs": [],
   "source": [
    "import time\n",
    "from multiprocessing import Pool"
   ]
  },
  {
   "cell_type": "code",
   "execution_count": 10,
   "id": "70f66d14",
   "metadata": {},
   "outputs": [],
   "source": [
    "data['query'] = data[['lat','long']].apply(lambda x: str(x['lat']) + ',' + str(x['long']) , axis=1)"
   ]
  },
  {
   "cell_type": "code",
   "execution_count": 11,
   "id": "f0844086",
   "metadata": {},
   "outputs": [
    {
     "name": "stdout",
     "output_type": "stream",
     "text": [
      "Time Elapsed: {} 0.02476791700000014\n"
     ]
    }
   ],
   "source": [
    "import defs\n",
    "\n",
    "df1 = data[['id','query']].sample(10)\n",
    "\n",
    "p = Pool(3)\n",
    "\n",
    "start = time.process_time()\n",
    "df1[['place_id', 'osm_type' , 'country' , 'country_code']] = p.map(defs.get_data , df1.iterrows())\n",
    "end = time.process_time()\n",
    "\n",
    "print('Time Elapsed: {}' , end-start)"
   ]
  },
  {
   "cell_type": "markdown",
   "id": "f7d7f024",
   "metadata": {},
   "source": [
    "4. Adicione os seguinte filtros no Mapa:\n",
    "- Tamanho mínimo da área da sala de estar.\n",
    "- Número mínimo de banheiros.\n",
    "- Valor Máximo do Preço.\n",
    "- Tamanho máximo da área do porão.\n",
    "- Filtro das Condições do Imóvel.\n",
    "- Filtro por Ano de Construção."
   ]
  },
  {
   "cell_type": "code",
   "execution_count": 27,
   "id": "2aade787",
   "metadata": {},
   "outputs": [],
   "source": [
    "import ipywidgets as widgets \n",
    "from ipywidgets import interact, interactive, fixed, interact_manual \n",
    "from plotly import express as px\n",
    "from matplotlib import pyplot as plt\n",
    "from matplotlib import gridspec\n",
    "import seaborn as sns"
   ]
  },
  {
   "cell_type": "code",
   "execution_count": 15,
   "id": "14221b7e",
   "metadata": {},
   "outputs": [],
   "source": [
    "#define interactive bottons\n",
    "price_limit = widgets.IntSlider(\n",
    "        value=540000,\n",
    "        min=7500,\n",
    "        max=770000,\n",
    "        step=1,\n",
    "        description='Maximum Price',\n",
    "        disable=False,\n",
    "        style={'description_width':'initial'})\n",
    "\n",
    "minimum_sqft= widgets.IntSlider(\n",
    "        value=int(data['sqft_living'].mean()),\n",
    "        min=290,\n",
    "        max=13540,\n",
    "        step=1,\n",
    "        description='Min sqft_living',\n",
    "        disable=False,\n",
    "        style={'description_width':'initial'})\n",
    "\n",
    "bathrooms_limit= widgets.IntSlider(\n",
    "        value=int(data['bathrooms'].mean()),\n",
    "        min=int(min(data['bathrooms'])),\n",
    "        max=int(max(data['bathrooms'])),\n",
    "        step=1,\n",
    "        description='bathrooms',\n",
    "        disable=False,\n",
    "        style={'description_width':'initial'})\n",
    "\n",
    "basement_limit= widgets.IntSlider(\n",
    "        value=int(data['sqft_basement'].mean()),\n",
    "        min=int(min(data['sqft_basement'])),\n",
    "        max=int(max(data['sqft_basement'])),\n",
    "        step=1,\n",
    "        description='basement',\n",
    "        disable=False,\n",
    "        style={'description_width':'initial'})\n",
    "\n",
    "condition_limit = widgets.IntSlider(\n",
    "        value=int(data['condition'].mean()),\n",
    "        min=int(min(data['condition'])),\n",
    "        max=int(max(data['condition'])),\n",
    "        step=1,\n",
    "        description='condition',\n",
    "        disable=False,\n",
    "        style={'description_width':'initial'})"
   ]
  },
  {
   "cell_type": "code",
   "execution_count": 16,
   "id": "56f14610",
   "metadata": {},
   "outputs": [],
   "source": [
    "def update_map(df,price_limit,minimum_sqft , bathrooms_limit , basement_limit , condition_limit ):\n",
    "    \n",
    "    #filter data\n",
    "    houses = df[(df['price']<price_limit) & \n",
    "                (df['sqft_living'] > minimum_sqft)  & \n",
    "                (df['bathrooms'] > bathrooms_limit ) & \n",
    "                (df['sqft_basement'] < basement_limit )\n",
    "               & (df['condition'] > condition_limit)][['id' , 'lat' , 'long', 'price' ,'sqft_living' , 'sqft_basement' , 'condition']].copy()\n",
    "   \n",
    "    #plot map\n",
    "    fig = px.scatter_mapbox(houses , \n",
    "                            lat = 'lat' , \n",
    "                            lon ='long' ,\n",
    "                            size='price',\n",
    "                            color_continuous_scale = px.colors.cyclical.IceFire ,\n",
    "                            size_max=15,\n",
    "                            zoom=10)\n",
    "    fig.update_layout(mapbox_style='open-street-map')\n",
    "    fig.update_layout(height = 600, margin={'r':0 , 't':0,'l':0,'b':0})\n",
    "    fig.show()"
   ]
  },
  {
   "cell_type": "code",
   "execution_count": 17,
   "id": "28a1dab6",
   "metadata": {},
   "outputs": [
    {
     "data": {
      "application/vnd.jupyter.widget-view+json": {
       "model_id": "3b13aec6f6c8410a9c12ecb5271b53d4",
       "version_major": 2,
       "version_minor": 0
      },
      "text/plain": [
       "interactive(children=(IntSlider(value=540000, description='Maximum Price', max=770000, min=7500, style=SliderS…"
      ]
     },
     "metadata": {},
     "output_type": "display_data"
    }
   ],
   "source": [
    "widgets.interactive(update_map , df=fixed(data) , price_limit=price_limit, \n",
    "                                                  minimum_sqft=minimum_sqft ,\n",
    "                                                  bathrooms_limit=bathrooms_limit,\n",
    "                                                  basement_limit=basement_limit,\n",
    "                                                  condition_limit=condition_limit)"
   ]
  },
  {
   "cell_type": "markdown",
   "id": "1ffba962",
   "metadata": {},
   "source": [
    "5. Adicione os seguinte filtros no Dashboard:\n",
    "\n",
    "- Filtro por data disponível para compra.\n",
    "- Filtro por ano de renovação.\n",
    "- Filtro se possui vista para a água ou não."
   ]
  },
  {
   "cell_type": "code",
   "execution_count": 22,
   "id": "eeda68c0",
   "metadata": {},
   "outputs": [],
   "source": [
    "data['year'] = pd.to_datetime(data['date']).dt.strftime('%Y')\n",
    "data['date'] = pd.to_datetime(data['date']).dt.strftime('%Y-%m-%d')\n",
    "data['year_week'] = pd.to_datetime(data['date']).dt.strftime('%Y-%U')\n",
    "\n",
    "date_limit = widgets.SelectionSlider(options=data['date'].unique().tolist(),\n",
    "                                    value='2014-12-01',\n",
    "                                    description='Max available date',\n",
    "                                    disable=False,\n",
    "                                     continuous_update=False,\n",
    "                                     style={'description_width':'initial'},\n",
    "                                     redout=True\n",
    "                                    )\n",
    "\n",
    "year_limit = widgets.SelectionSlider(options=data['yr_renovated'].unique().tolist(),\n",
    "                                    value=2000,\n",
    "                                    description='Max Year',\n",
    "                                    disable=False,\n",
    "                                     continuous_update=False,\n",
    "                                     style={'description_width':'initial'},\n",
    "                                     redout=True\n",
    "                                    )\n",
    "\n",
    "waterfront_limit = widgets.Checkbox(value=False,\n",
    "                                   description='Is Waterfront?',\n",
    "                                   disable=False,\n",
    "                                   indent=False)"
   ]
  },
  {
   "cell_type": "code",
   "execution_count": 38,
   "id": "f347494d",
   "metadata": {},
   "outputs": [],
   "source": [
    "def update_map(data,date_limit,year_limit,waterfront_limit):\n",
    "    df = data[(data['date']<date_limit) \n",
    "              & (data['yr_renovated']>=year_limit) \n",
    "              & (data['waterfront']==waterfront_limit)].copy()\n",
    "    fig = plt.figure(figsize=(24,12))\n",
    "    specs = gridspec.GridSpec(ncols=2,nrows=2,figure=fig)\n",
    "    \n",
    "    ax1 = fig.add_subplot(specs[0, :])\n",
    "    ax2 = fig.add_subplot(specs[1,0])\n",
    "    ax3 = fig.add_subplot(specs[1,1])\n",
    "    \n",
    "    by_year = df[['price','year']].groupby( 'year' ).sum().reset_index()\n",
    "    sns.barplot(x='year', y='price', data=by_year,ax=ax1)\n",
    "    \n",
    "    by_day = df[['price','date']].groupby('date').mean().reset_index()\n",
    "    sns.lineplot(x='date',y='price',data=by_day,ax=ax2)\n",
    "    \n",
    "    by_year_week = df[['price','year_week']].groupby('year_week').mean().reset_index()\n",
    "    sns.barplot(x='year_week',y='price',data=by_year_week,ax=ax3)\n",
    "    plt.xticks(rotation=90);"
   ]
  },
  {
   "cell_type": "code",
   "execution_count": 39,
   "id": "085fe171",
   "metadata": {},
   "outputs": [
    {
     "data": {
      "application/vnd.jupyter.widget-view+json": {
       "model_id": "291e53b2ff504cae91561c09754329b4",
       "version_major": 2,
       "version_minor": 0
      },
      "text/plain": [
       "interactive(children=(SelectionSlider(continuous_update=False, description='Max available date', index=87, opt…"
      ]
     },
     "metadata": {},
     "output_type": "display_data"
    }
   ],
   "source": [
    "widgets.interactive(update_map,data=fixed(data),date_limit=date_limit,year_limit=year_limit,waterfront_limit=waterfront_limit)"
   ]
  },
  {
   "cell_type": "code",
   "execution_count": null,
   "id": "3623700a",
   "metadata": {},
   "outputs": [],
   "source": []
  }
 ],
 "metadata": {
  "kernelspec": {
   "display_name": "Python 3 (ipykernel)",
   "language": "python",
   "name": "python3"
  },
  "language_info": {
   "codemirror_mode": {
    "name": "ipython",
    "version": 3
   },
   "file_extension": ".py",
   "mimetype": "text/x-python",
   "name": "python",
   "nbconvert_exporter": "python",
   "pygments_lexer": "ipython3",
   "version": "3.9.13"
  }
 },
 "nbformat": 4,
 "nbformat_minor": 5
}
